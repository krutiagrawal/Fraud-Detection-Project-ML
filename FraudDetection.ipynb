{
 "cells": [
  {
   "cell_type": "code",
   "id": "7eb8ae43-41bd-4f68-9e06-ab8e2afae27f",
   "metadata": {
    "ExecuteTime": {
     "end_time": "2024-10-30T14:33:22.733604Z",
     "start_time": "2024-10-30T14:33:18.218668Z"
    }
   },
   "source": [
    "import pandas as pd\n",
    "import tensorflow as tf\n",
    "from tensorflow.keras.models import Sequential\n",
    "from tensorflow.keras.layers import Dense, Dropout\n",
    "from sklearn.model_selection import train_test_split\n",
    "from sklearn.preprocessing import StandardScaler\n",
    "import os\n",
    "import glob"
   ],
   "outputs": [],
   "execution_count": 1
  },
  {
   "cell_type": "code",
   "id": "c6633fb2-b71e-4e28-9c10-fb9edf0aa788",
   "metadata": {
    "ExecuteTime": {
     "end_time": "2024-10-30T14:33:28.995288Z",
     "start_time": "2024-10-30T14:33:22.742896Z"
    }
   },
   "source": [
    "# Defining the directory containing the .pkl files\n",
    "directory = r\"C:\\Users\\Kruti Agrawal\\Desktop\\Projects\\fraud_detection\\fraud_detection\\dataset\\data\"\n",
    "\n",
    "# Loading all .pkl files and concatenating them into a single DataFrame\n",
    "all_files = glob.glob(os.path.join(directory, \"*.pkl\"))\n",
    "\n",
    "# Creating an empty DataFrame to hold all data\n",
    "df_list = [pd.read_pickle(file) for file in all_files]\n",
    "df = pd.concat(df_list, ignore_index=True)\n",
    "\n",
    "# Checking the loaded data\n",
    "print(df.head())"
   ],
   "outputs": [
    {
     "name": "stdout",
     "output_type": "stream",
     "text": [
      "   TRANSACTION_ID         TX_DATETIME CUSTOMER_ID TERMINAL_ID  TX_AMOUNT  \\\n",
      "0               0 2018-04-01 00:00:31         596        3156      57.16   \n",
      "1               1 2018-04-01 00:02:10        4961        3412      81.51   \n",
      "2               2 2018-04-01 00:07:56           2        1365     146.00   \n",
      "3               3 2018-04-01 00:09:29        4128        8737      64.49   \n",
      "4               4 2018-04-01 00:10:34         927        9906      50.99   \n",
      "\n",
      "  TX_TIME_SECONDS TX_TIME_DAYS  TX_FRAUD  TX_FRAUD_SCENARIO  \n",
      "0              31            0         0                  0  \n",
      "1             130            0         0                  0  \n",
      "2             476            0         0                  0  \n",
      "3             569            0         0                  0  \n",
      "4             634            0         0                  0  \n"
     ]
    }
   ],
   "execution_count": 2
  },
  {
   "cell_type": "code",
   "id": "01911bb0-2451-4400-8c79-18f2d9de3ac5",
   "metadata": {
    "ExecuteTime": {
     "end_time": "2024-10-30T14:33:29.189350Z",
     "start_time": "2024-10-30T14:33:29.089252Z"
    }
   },
   "source": [
    "# Data Preprocessing\n",
    "# Converting TX_DATETIME to datetime type\n",
    "df['TX_DATETIME'] = pd.to_datetime(df['TX_DATETIME'])\n",
    "df['day'] = df['TX_DATETIME'].dt.day\n",
    "df['hour'] = df['TX_DATETIME'].dt.hour"
   ],
   "outputs": [],
   "execution_count": 3
  },
  {
   "cell_type": "code",
   "id": "d8579cf4-42fb-4aec-b5ad-d737c12b757c",
   "metadata": {
    "ExecuteTime": {
     "end_time": "2024-10-30T14:33:30.454913Z",
     "start_time": "2024-10-30T14:33:29.208859Z"
    }
   },
   "source": [
    "# Feature engineering based on defined fraud scenarios\n",
    "df['is_high_amount'] = df['TX_AMOUNT'] > 220\n",
    "df['is_fraud_terminal'] = df.groupby('TERMINAL_ID')['TX_FRAUD'].transform('sum') > 0\n",
    "df['is_high_spend_customer'] = df.groupby('CUSTOMER_ID')['TX_AMOUNT'].transform(lambda x: x > x.mean() * 5)"
   ],
   "outputs": [],
   "execution_count": 4
  },
  {
   "cell_type": "code",
   "id": "94779f55-4d25-4692-9841-2cc4932ad4b3",
   "metadata": {
    "ExecuteTime": {
     "end_time": "2024-10-30T14:33:30.500895Z",
     "start_time": "2024-10-30T14:33:30.473207Z"
    }
   },
   "source": [
    "# Defining features and target\n",
    "features = ['TX_AMOUNT', 'is_high_amount', 'is_fraud_terminal', 'is_high_spend_customer', 'day', 'hour']\n",
    "X = df[features]\n",
    "y = df['TX_FRAUD']"
   ],
   "outputs": [],
   "execution_count": 5
  },
  {
   "cell_type": "code",
   "id": "9a00f5ae-5f26-4ed4-93f4-39db862fd902",
   "metadata": {
    "ExecuteTime": {
     "end_time": "2024-10-30T14:33:31.066187Z",
     "start_time": "2024-10-30T14:33:30.518475Z"
    }
   },
   "source": [
    "# Scaling the features\n",
    "scaler = StandardScaler()\n",
    "X_scaled = scaler.fit_transform(X)\n",
    "\n",
    "# Splitting data into training and test sets\n",
    "X_train, X_test, y_train, y_test = train_test_split(X_scaled, y, test_size=0.3, random_state=42)"
   ],
   "outputs": [],
   "execution_count": 6
  },
  {
   "cell_type": "code",
   "id": "be1da113-4e48-4b1d-87f1-dd94ad476e8d",
   "metadata": {
    "ExecuteTime": {
     "end_time": "2024-10-30T14:33:31.177333Z",
     "start_time": "2024-10-30T14:33:31.112250Z"
    }
   },
   "source": [
    "# Defining the model\n",
    "model = Sequential([\n",
    "    Dense(64, activation='relu', input_shape=(X_train.shape[1],)),\n",
    "    Dropout(0.5),\n",
    "    Dense(32, activation='relu'),\n",
    "    Dropout(0.3),\n",
    "    Dense(1, activation='sigmoid')  \n",
    "])"
   ],
   "outputs": [
    {
     "name": "stderr",
     "output_type": "stream",
     "text": [
      "C:\\Users\\Kruti Agrawal\\anaconda3\\Lib\\site-packages\\keras\\src\\layers\\core\\dense.py:87: UserWarning: Do not pass an `input_shape`/`input_dim` argument to a layer. When using Sequential models, prefer using an `Input(shape)` object as the first layer in the model instead.\n",
      "  super().__init__(activity_regularizer=activity_regularizer, **kwargs)\n"
     ]
    }
   ],
   "execution_count": 7
  },
  {
   "cell_type": "code",
   "id": "830f9896-d4ce-4f17-99d0-a65013818e5b",
   "metadata": {
    "ExecuteTime": {
     "end_time": "2024-10-30T14:33:31.220613Z",
     "start_time": "2024-10-30T14:33:31.205560Z"
    }
   },
   "source": [
    "# Compiling the model\n",
    "model.compile(optimizer='adam', loss='binary_crossentropy', metrics=['accuracy'])"
   ],
   "outputs": [],
   "execution_count": 8
  },
  {
   "cell_type": "code",
   "id": "b6c71ace-497e-4832-b3ac-d978de060611",
   "metadata": {
    "ExecuteTime": {
     "end_time": "2024-10-30T14:37:57.069730Z",
     "start_time": "2024-10-30T14:33:31.244424Z"
    }
   },
   "source": [
    "# Training the model\n",
    "history = model.fit(X_train, y_train, epochs=10, batch_size=32, validation_split=0.2)"
   ],
   "outputs": [
    {
     "name": "stdout",
     "output_type": "stream",
     "text": [
      "Epoch 1/10\n",
      "\u001B[1m30698/30698\u001B[0m \u001B[32m━━━━━━━━━━━━━━━━━━━━\u001B[0m\u001B[37m\u001B[0m \u001B[1m28s\u001B[0m 860us/step - accuracy: 0.9914 - loss: 0.0464 - val_accuracy: 0.9937 - val_loss: 0.0330\n",
      "Epoch 2/10\n",
      "\u001B[1m30698/30698\u001B[0m \u001B[32m━━━━━━━━━━━━━━━━━━━━\u001B[0m\u001B[37m\u001B[0m \u001B[1m26s\u001B[0m 836us/step - accuracy: 0.9937 - loss: 0.0336 - val_accuracy: 0.9937 - val_loss: 0.0330\n",
      "Epoch 3/10\n",
      "\u001B[1m30698/30698\u001B[0m \u001B[32m━━━━━━━━━━━━━━━━━━━━\u001B[0m\u001B[37m\u001B[0m \u001B[1m26s\u001B[0m 833us/step - accuracy: 0.9938 - loss: 0.0327 - val_accuracy: 0.9937 - val_loss: 0.0331\n",
      "Epoch 4/10\n",
      "\u001B[1m30698/30698\u001B[0m \u001B[32m━━━━━━━━━━━━━━━━━━━━\u001B[0m\u001B[37m\u001B[0m \u001B[1m26s\u001B[0m 832us/step - accuracy: 0.9938 - loss: 0.0328 - val_accuracy: 0.9937 - val_loss: 0.0331\n",
      "Epoch 5/10\n",
      "\u001B[1m30698/30698\u001B[0m \u001B[32m━━━━━━━━━━━━━━━━━━━━\u001B[0m\u001B[37m\u001B[0m \u001B[1m26s\u001B[0m 844us/step - accuracy: 0.9937 - loss: 0.0332 - val_accuracy: 0.9937 - val_loss: 0.0332\n",
      "Epoch 6/10\n",
      "\u001B[1m30698/30698\u001B[0m \u001B[32m━━━━━━━━━━━━━━━━━━━━\u001B[0m\u001B[37m\u001B[0m \u001B[1m27s\u001B[0m 871us/step - accuracy: 0.9937 - loss: 0.0330 - val_accuracy: 0.9937 - val_loss: 0.0331\n",
      "Epoch 7/10\n",
      "\u001B[1m30698/30698\u001B[0m \u001B[32m━━━━━━━━━━━━━━━━━━━━\u001B[0m\u001B[37m\u001B[0m \u001B[1m27s\u001B[0m 872us/step - accuracy: 0.9938 - loss: 0.0326 - val_accuracy: 0.9937 - val_loss: 0.0331\n",
      "Epoch 8/10\n",
      "\u001B[1m30698/30698\u001B[0m \u001B[32m━━━━━━━━━━━━━━━━━━━━\u001B[0m\u001B[37m\u001B[0m \u001B[1m27s\u001B[0m 873us/step - accuracy: 0.9938 - loss: 0.0326 - val_accuracy: 0.9937 - val_loss: 0.0331\n",
      "Epoch 9/10\n",
      "\u001B[1m30698/30698\u001B[0m \u001B[32m━━━━━━━━━━━━━━━━━━━━\u001B[0m\u001B[37m\u001B[0m \u001B[1m27s\u001B[0m 889us/step - accuracy: 0.9939 - loss: 0.0324 - val_accuracy: 0.9937 - val_loss: 0.0331\n",
      "Epoch 10/10\n",
      "\u001B[1m30698/30698\u001B[0m \u001B[32m━━━━━━━━━━━━━━━━━━━━\u001B[0m\u001B[37m\u001B[0m \u001B[1m27s\u001B[0m 879us/step - accuracy: 0.9940 - loss: 0.0319 - val_accuracy: 0.9937 - val_loss: 0.0331\n"
     ]
    }
   ],
   "execution_count": 9
  },
  {
   "cell_type": "code",
   "id": "978b8576-c7ec-41cd-b6d7-2a2b64a0dce0",
   "metadata": {
    "ExecuteTime": {
     "end_time": "2024-10-30T14:38:06.513587Z",
     "start_time": "2024-10-30T14:37:57.121401Z"
    }
   },
   "source": [
    "# Evaluating the model\n",
    "test_loss, test_accuracy = model.evaluate(X_test, y_test)\n",
    "print(f'Test Accuracy: {test_accuracy}')"
   ],
   "outputs": [
    {
     "name": "stdout",
     "output_type": "stream",
     "text": [
      "\u001B[1m16446/16446\u001B[0m \u001B[32m━━━━━━━━━━━━━━━━━━━━\u001B[0m\u001B[37m\u001B[0m \u001B[1m9s\u001B[0m 565us/step - accuracy: 0.9939 - loss: 0.0321\n",
      "Test Accuracy: 0.9938697814941406\n"
     ]
    }
   ],
   "execution_count": 10
  },
  {
   "cell_type": "code",
   "id": "c40c0108-e0bb-4848-95f3-bcccdf9929b0",
   "metadata": {
    "ExecuteTime": {
     "end_time": "2024-10-30T14:38:06.548585Z",
     "start_time": "2024-10-30T14:38:06.518617Z"
    }
   },
   "source": [
    "model.save(\"fraud_detection_model.h5\")"
   ],
   "outputs": [
    {
     "name": "stderr",
     "output_type": "stream",
     "text": [
      "WARNING:absl:You are saving your model as an HDF5 file via `model.save()` or `keras.saving.save_model(model)`. This file format is considered legacy. We recommend using instead the native Keras format, e.g. `model.save('my_model.keras')` or `keras.saving.save_model(model, 'my_model.keras')`. \n"
     ]
    }
   ],
   "execution_count": 11
  }
 ],
 "metadata": {
  "kernelspec": {
   "display_name": "Python 3 (ipykernel)",
   "language": "python",
   "name": "python3"
  },
  "language_info": {
   "codemirror_mode": {
    "name": "ipython",
    "version": 3
   },
   "file_extension": ".py",
   "mimetype": "text/x-python",
   "name": "python",
   "nbconvert_exporter": "python",
   "pygments_lexer": "ipython3",
   "version": "3.12.4"
  }
 },
 "nbformat": 4,
 "nbformat_minor": 5
}
